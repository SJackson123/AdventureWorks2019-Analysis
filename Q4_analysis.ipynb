{
 "cells": [
  {
   "cell_type": "code",
   "execution_count": 1,
   "metadata": {},
   "outputs": [],
   "source": [
    "import numpy as np\n",
    "import pandas as pd\n",
    "from matplotlib import pyplot as plt\n",
    "import seaborn as sns"
   ]
  },
  {
   "cell_type": "markdown",
   "metadata": {},
   "source": [
    "# Q4)  What is the relationship between sick leave and Job Title (PersonType)?"
   ]
  },
  {
   "cell_type": "code",
   "execution_count": 2,
   "metadata": {},
   "outputs": [
    {
     "name": "stdout",
     "output_type": "stream",
     "text": [
      "(19972, 3)\n"
     ]
    },
    {
     "data": {
      "text/html": [
       "<div>\n",
       "<style scoped>\n",
       "    .dataframe tbody tr th:only-of-type {\n",
       "        vertical-align: middle;\n",
       "    }\n",
       "\n",
       "    .dataframe tbody tr th {\n",
       "        vertical-align: top;\n",
       "    }\n",
       "\n",
       "    .dataframe thead th {\n",
       "        text-align: right;\n",
       "    }\n",
       "</style>\n",
       "<table border=\"1\" class=\"dataframe\">\n",
       "  <thead>\n",
       "    <tr style=\"text-align: right;\">\n",
       "      <th></th>\n",
       "      <th>PersonType</th>\n",
       "      <th>JobTitle</th>\n",
       "      <th>SickLeaveHours</th>\n",
       "    </tr>\n",
       "    <tr>\n",
       "      <th>BusinessEntityID</th>\n",
       "      <th></th>\n",
       "      <th></th>\n",
       "      <th></th>\n",
       "    </tr>\n",
       "  </thead>\n",
       "  <tbody>\n",
       "    <tr>\n",
       "      <th>1</th>\n",
       "      <td>EM</td>\n",
       "      <td>Chief Executive Officer</td>\n",
       "      <td>69.0</td>\n",
       "    </tr>\n",
       "    <tr>\n",
       "      <th>2</th>\n",
       "      <td>EM</td>\n",
       "      <td>Vice President of Engineering</td>\n",
       "      <td>20.0</td>\n",
       "    </tr>\n",
       "    <tr>\n",
       "      <th>3</th>\n",
       "      <td>EM</td>\n",
       "      <td>Engineering Manager</td>\n",
       "      <td>21.0</td>\n",
       "    </tr>\n",
       "    <tr>\n",
       "      <th>4</th>\n",
       "      <td>EM</td>\n",
       "      <td>Senior Tool Designer</td>\n",
       "      <td>80.0</td>\n",
       "    </tr>\n",
       "    <tr>\n",
       "      <th>5</th>\n",
       "      <td>EM</td>\n",
       "      <td>Design Engineer</td>\n",
       "      <td>22.0</td>\n",
       "    </tr>\n",
       "  </tbody>\n",
       "</table>\n",
       "</div>"
      ],
      "text/plain": [
       "                 PersonType                       JobTitle  SickLeaveHours\n",
       "BusinessEntityID                                                          \n",
       "1                        EM        Chief Executive Officer            69.0\n",
       "2                        EM  Vice President of Engineering            20.0\n",
       "3                        EM            Engineering Manager            21.0\n",
       "4                        EM           Senior Tool Designer            80.0\n",
       "5                        EM                Design Engineer            22.0"
      ]
     },
     "execution_count": 2,
     "metadata": {},
     "output_type": "execute_result"
    }
   ],
   "source": [
    "df = pd.read_csv(r\"C:\\Users\\sebsj\\Documents\\Computer Science\\GenerationDataAnalyst\\InterimProject\\analysis\\Q4_person_type_sick_leave_job_title.csv\",\n",
    "                 index_col=\"BusinessEntityID\")\n",
    "print(df.shape)\n",
    "df.head()"
   ]
  },
  {
   "cell_type": "markdown",
   "metadata": {},
   "source": [
    "The different PersonTypes are: IN, EM, SP, SC, VC, GC\n",
    "- SC = Store Contact, \n",
    "- IN = Individual (retail) customer, \n",
    "- SP = Sales person,\n",
    "- EM = Employee (non-sales),\n",
    "- VC = Vendor contact,\n",
    "- GC = General contact\n",
    "\n",
    "We will explore the sick leave hours for each PersonType, first looking at mean and spread of data:"
   ]
  },
  {
   "cell_type": "code",
   "execution_count": 3,
   "metadata": {},
   "outputs": [
    {
     "name": "stdout",
     "output_type": "stream",
     "text": [
      "(290, 3)\n"
     ]
    }
   ],
   "source": [
    "# not every PersonType will have SickLeaveHours (customer) \n",
    "# sickLeaveHours_avg = df.groupby(\"PersonType\")[\"SickLeaveHours\"].mean()\n",
    "df_clean = df.dropna(subset=[\"SickLeaveHours\"])\n",
    "print(df_clean.shape)"
   ]
  },
  {
   "cell_type": "code",
   "execution_count": 4,
   "metadata": {},
   "outputs": [],
   "source": [
    "def pct25(column):\n",
    "    return column.quantile(0.25)\n",
    "\n",
    "def pct50(column):\n",
    "    return column.quantile(0.5)\n",
    "\n",
    "def pct75(column):\n",
    "    return column.quantile(0.75)"
   ]
  },
  {
   "cell_type": "code",
   "execution_count": 30,
   "metadata": {},
   "outputs": [
    {
     "data": {
      "text/html": [
       "<div>\n",
       "<style scoped>\n",
       "    .dataframe tbody tr th:only-of-type {\n",
       "        vertical-align: middle;\n",
       "    }\n",
       "\n",
       "    .dataframe tbody tr th {\n",
       "        vertical-align: top;\n",
       "    }\n",
       "\n",
       "    .dataframe thead th {\n",
       "        text-align: right;\n",
       "    }\n",
       "</style>\n",
       "<table border=\"1\" class=\"dataframe\">\n",
       "  <thead>\n",
       "    <tr style=\"text-align: right;\">\n",
       "      <th></th>\n",
       "      <th>mean</th>\n",
       "      <th>std</th>\n",
       "      <th>sum</th>\n",
       "      <th>pct25</th>\n",
       "      <th>pct50</th>\n",
       "      <th>pct75</th>\n",
       "    </tr>\n",
       "    <tr>\n",
       "      <th>PersonType</th>\n",
       "      <th></th>\n",
       "      <th></th>\n",
       "      <th></th>\n",
       "      <th></th>\n",
       "      <th></th>\n",
       "      <th></th>\n",
       "    </tr>\n",
       "  </thead>\n",
       "  <tbody>\n",
       "    <tr>\n",
       "      <th>EM</th>\n",
       "      <td>46.003663</td>\n",
       "      <td>14.681796</td>\n",
       "      <td>12559.0</td>\n",
       "      <td>34.0</td>\n",
       "      <td>47.0</td>\n",
       "      <td>58.0</td>\n",
       "    </tr>\n",
       "    <tr>\n",
       "      <th>SP</th>\n",
       "      <td>34.117647</td>\n",
       "      <td>3.620814</td>\n",
       "      <td>580.0</td>\n",
       "      <td>31.0</td>\n",
       "      <td>34.0</td>\n",
       "      <td>37.0</td>\n",
       "    </tr>\n",
       "  </tbody>\n",
       "</table>\n",
       "</div>"
      ],
      "text/plain": [
       "                 mean        std      sum  pct25  pct50  pct75\n",
       "PersonType                                                    \n",
       "EM          46.003663  14.681796  12559.0   34.0   47.0   58.0\n",
       "SP          34.117647   3.620814    580.0   31.0   34.0   37.0"
      ]
     },
     "execution_count": 30,
     "metadata": {},
     "output_type": "execute_result"
    }
   ],
   "source": [
    "agg_list = [np.mean,np.std, np.sum, pct25, pct50, pct75]\n",
    "sickLeaveHours_avg = df_clean.groupby(\"PersonType\")[\"SickLeaveHours\"].agg(agg_list)\n",
    "sickLeaveHours_avg"
   ]
  },
  {
   "cell_type": "markdown",
   "metadata": {},
   "source": [
    "The median and mean values are similar to each other. This indicates there is very little skew to the data and the data is evenly distributed. It would be more descriptive to look at a boxplot: "
   ]
  },
  {
   "cell_type": "code",
   "execution_count": 6,
   "metadata": {},
   "outputs": [
    {
     "data": {
      "text/plain": [
       "(0.0, 40.0)"
      ]
     },
     "execution_count": 6,
     "metadata": {},
     "output_type": "execute_result"
    },
    {
     "data": {
      "image/png": "[encoded data removed]",
      "text/plain": [
       "<Figure size 640x480 with 1 Axes>"
      ]
     },
     "metadata": {},
     "output_type": "display_data"
    }
   ],
   "source": [
    "# plt.style.use(\"ggplot\")\n",
    "ax = sns.histplot(x=df_clean[\"SickLeaveHours\"])\n",
    "ax.set_title(\"Sick Leave Hours Distribution\")\n",
    "ax.set_xlim(xmin=0)\n",
    "ax.set_ylim(ymax=40)"
   ]
  },
  {
   "cell_type": "code",
   "execution_count": 93,
   "metadata": {},
   "outputs": [
    {
     "name": "stdout",
     "output_type": "stream",
     "text": [
      "(273, 3)\n",
      "(17, 3)\n"
     ]
    }
   ],
   "source": [
    "# separate out sales and employee (non-sales)\n",
    "em_sick_leave = df_clean[df_clean[\"PersonType\"] == \"EM\"]\n",
    "print(em_sick_leave.shape)\n",
    "sp_sick_leave = df_clean[df_clean[\"PersonType\"] == \"SP\"]\n",
    "print(sp_sick_leave.shape)"
   ]
  },
  {
   "cell_type": "code",
   "execution_count": 94,
   "metadata": {},
   "outputs": [
    {
     "data": {
      "image/png": "[encoded data removed]",
      "text/plain": [
       "<Figure size 640x480 with 1 Axes>"
      ]
     },
     "metadata": {},
     "output_type": "display_data"
    }
   ],
   "source": [
    "plt.style.use(\"ggplot\")\n",
    "em_mean = em_sick_leave[\"SickLeaveHours\"].mean()\n",
    "sp_mean = sp_sick_leave[\"SickLeaveHours\"].mean()\n",
    "\n",
    "labels=[\"EM\",\"SP\"]\n",
    "fig, ax = plt.subplots()\n",
    "bplot1 = ax.boxplot([em_sick_leave[\"SickLeaveHours\"], sp_sick_leave[\"SickLeaveHours\"]],\n",
    "                    patch_artist=True, # fill with colour\n",
    "                    labels=labels\n",
    "                    )\n",
    "\n",
    "for median in bplot1['medians']:\n",
    "    median.set_color('black')\n",
    "\n",
    "plt.text(1.1, em_mean, f'Median: {em_mean:.2f}', fontsize=10, ha='left', va='bottom', color='black')\n",
    "plt.text(2.10, sp_mean, f'Median: {sp_mean:.2f}', fontsize=10, ha='left', va='bottom', color='black')\n",
    "plt.title(\"Sick Leave Hours\")\n",
    "plt.xlabel(\"Person Type\")\n",
    "plt.ylabel(\"Sick Leave Hours\")\n",
    "plt.ylim(0)\n",
    "plt.show()"
   ]
  },
  {
   "cell_type": "markdown",
   "metadata": {},
   "source": [
    "This box plot compares the distribution of sick leave hours for EM and SP employees. Both distributions are relatively symmetric, with no outliers. This suggests the majority of sick leave hours fall within the interquartile range for both employee groups. \n",
    "\n",
    "There is a noticeable difference when looking at the spread of sick leave hours between the two groups. EM employees have a wider spread of sick leave hours and a higher median of 46 hours, indicating that half of the EM employees take at least 46 hours of sick leave. ON the other hand, SP employees show a smaller spread in sick leave hours around a median value of 34.12 hours. This suggests that SP employees take fewer sickl leave hours compared to their EM counterparts.\n",
    "\n",
    "These findings may indicate differences in sick leave policies between the two employee groups."
   ]
  },
  {
   "cell_type": "code",
   "execution_count": 92,
   "metadata": {},
   "outputs": [
    {
     "name": "stdout",
     "output_type": "stream",
     "text": [
      "Probability for EM employees to take between 23 to 70 hours of sick leave: 0.9304029304029323\n",
      "Probability for SP employees to take between 30 to 40 hours of sick leave: 0.9411764705882527\n"
     ]
    },
    {
     "data": {
      "image/png": "[encoded data removed]",
      "text/plain": [
       "<Figure size 640x480 with 1 Axes>"
      ]
     },
     "metadata": {},
     "output_type": "display_data"
    }
   ],
   "source": [
    "# plt.style.use(\"ggplot\")\n",
    "ax = sns.histplot(data=df_clean, \n",
    "                  x=\"SickLeaveHours\",\n",
    "                  hue=\"PersonType\",\n",
    "                  element=\"step\",\n",
    "                  stat='density',\n",
    "                  common_norm=False, kde=False)\n",
    "ax.set_title(\"Comparison of Sick Leave Hourse between Employee Types\")\n",
    "ax.set_xlim(xmin=0)\n",
    "\n",
    "em_density, bins = np.histogram(df_clean[df_clean['PersonType'] == 'EM']['SickLeaveHours'], bins=100, density=True)\n",
    "em_prob = np.sum(em_density[(bins[:-1] >= 23) & (bins[:-1] <= 70)]) * np.diff(bins)[0]\n",
    "print(\"Probability for EM employees to take between 23 to 70 hours of sick leave:\", em_prob)\n",
    "\n",
    "sp_density, bins = np.histogram(df_clean[df_clean['PersonType'] == 'SP']['SickLeaveHours'], bins=100, density=True)\n",
    "sp_prob = np.sum(sp_density[(bins[:-1] >= 30) & (bins[:-1] <= 40)]) * np.diff(bins)[0]\n",
    "print(\"Probability for SP employees to take between 30 to 40 hours of sick leave:\", sp_prob)"
   ]
  },
  {
   "cell_type": "markdown",
   "metadata": {},
   "source": [
    "This histogram illustrates the distribution of sick leave hours for two employee types: Employee non-sales (EM) and Sales person. The sick leave hours have been normalised to directly compare between the two groups.\n",
    "\n",
    "Focusing on the histogram for EM employees, it has a nearly uniform distribution of sick leave hours with the range of 20 to 70 hours. The probability of an EM employee taking between 23 to 70 hours of sick leave is 93.04%, this demonstrates that a large proportion of EM emplyees tend to take sick leave within this range. \n",
    "\n",
    "In contrast, the histogram for SP employees shows a more concentrated distribution of sick leave hours, with 94.12% of SP employees falling between 30 to 40 hours. This indicates that SP employees are more likely to take less sick leave hours compared to their EM employees. However, the sample size of SP employees is only 17, while there are 273 EM employees. The small sample size of SP employees limits the robustness of sick leave in this group."
   ]
  },
  {
   "cell_type": "markdown",
   "metadata": {},
   "source": [
    "## Job Titles"
   ]
  },
  {
   "cell_type": "markdown",
   "metadata": {},
   "source": [
    "As there are many job titles, lets look into the jobs with highest sick leave hours. "
   ]
  },
  {
   "cell_type": "code",
   "execution_count": 110,
   "metadata": {},
   "outputs": [
    {
     "data": {
      "text/html": [
       "<div>\n",
       "<style scoped>\n",
       "    .dataframe tbody tr th:only-of-type {\n",
       "        vertical-align: middle;\n",
       "    }\n",
       "\n",
       "    .dataframe tbody tr th {\n",
       "        vertical-align: top;\n",
       "    }\n",
       "\n",
       "    .dataframe thead th {\n",
       "        text-align: right;\n",
       "    }\n",
       "</style>\n",
       "<table border=\"1\" class=\"dataframe\">\n",
       "  <thead>\n",
       "    <tr style=\"text-align: right;\">\n",
       "      <th></th>\n",
       "      <th>PersonType</th>\n",
       "      <th>JobTitle</th>\n",
       "      <th>SickLeaveHours</th>\n",
       "    </tr>\n",
       "    <tr>\n",
       "      <th>BusinessEntityID</th>\n",
       "      <th></th>\n",
       "      <th></th>\n",
       "      <th></th>\n",
       "    </tr>\n",
       "  </thead>\n",
       "  <tbody>\n",
       "    <tr>\n",
       "      <th>4</th>\n",
       "      <td>EM</td>\n",
       "      <td>Senior Tool Designer</td>\n",
       "      <td>80.0</td>\n",
       "    </tr>\n",
       "    <tr>\n",
       "      <th>1</th>\n",
       "      <td>EM</td>\n",
       "      <td>Chief Executive Officer</td>\n",
       "      <td>69.0</td>\n",
       "    </tr>\n",
       "    <tr>\n",
       "      <th>124</th>\n",
       "      <td>EM</td>\n",
       "      <td>Stocker</td>\n",
       "      <td>69.0</td>\n",
       "    </tr>\n",
       "    <tr>\n",
       "      <th>88</th>\n",
       "      <td>EM</td>\n",
       "      <td>Production Technician - WC10</td>\n",
       "      <td>69.0</td>\n",
       "    </tr>\n",
       "    <tr>\n",
       "      <th>92</th>\n",
       "      <td>EM</td>\n",
       "      <td>Production Technician - WC10</td>\n",
       "      <td>69.0</td>\n",
       "    </tr>\n",
       "    <tr>\n",
       "      <th>...</th>\n",
       "      <td>...</td>\n",
       "      <td>...</td>\n",
       "      <td>...</td>\n",
       "    </tr>\n",
       "    <tr>\n",
       "      <th>97</th>\n",
       "      <td>EM</td>\n",
       "      <td>Production Technician - WC50</td>\n",
       "      <td>20.0</td>\n",
       "    </tr>\n",
       "    <tr>\n",
       "      <th>234</th>\n",
       "      <td>EM</td>\n",
       "      <td>Chief Financial Officer</td>\n",
       "      <td>20.0</td>\n",
       "    </tr>\n",
       "    <tr>\n",
       "      <th>141</th>\n",
       "      <td>EM</td>\n",
       "      <td>Production Technician - WC20</td>\n",
       "      <td>20.0</td>\n",
       "    </tr>\n",
       "    <tr>\n",
       "      <th>95</th>\n",
       "      <td>EM</td>\n",
       "      <td>Production Technician - WC50</td>\n",
       "      <td>20.0</td>\n",
       "    </tr>\n",
       "    <tr>\n",
       "      <th>2</th>\n",
       "      <td>EM</td>\n",
       "      <td>Vice President of Engineering</td>\n",
       "      <td>20.0</td>\n",
       "    </tr>\n",
       "  </tbody>\n",
       "</table>\n",
       "<p>290 rows × 3 columns</p>\n",
       "</div>"
      ],
      "text/plain": [
       "                 PersonType                       JobTitle  SickLeaveHours\n",
       "BusinessEntityID                                                          \n",
       "4                        EM           Senior Tool Designer            80.0\n",
       "1                        EM        Chief Executive Officer            69.0\n",
       "124                      EM                        Stocker            69.0\n",
       "88                       EM   Production Technician - WC10            69.0\n",
       "92                       EM   Production Technician - WC10            69.0\n",
       "...                     ...                            ...             ...\n",
       "97                       EM   Production Technician - WC50            20.0\n",
       "234                      EM        Chief Financial Officer            20.0\n",
       "141                      EM   Production Technician - WC20            20.0\n",
       "95                       EM   Production Technician - WC50            20.0\n",
       "2                        EM  Vice President of Engineering            20.0\n",
       "\n",
       "[290 rows x 3 columns]"
      ]
     },
     "execution_count": 110,
     "metadata": {},
     "output_type": "execute_result"
    }
   ],
   "source": [
    "df_clean.sort_values(\"SickLeaveHours\", ascending=False)"
   ]
  },
  {
   "cell_type": "code",
   "execution_count": 116,
   "metadata": {},
   "outputs": [
    {
     "data": {
      "text/html": [
       "<div>\n",
       "<style scoped>\n",
       "    .dataframe tbody tr th:only-of-type {\n",
       "        vertical-align: middle;\n",
       "    }\n",
       "\n",
       "    .dataframe tbody tr th {\n",
       "        vertical-align: top;\n",
       "    }\n",
       "\n",
       "    .dataframe thead th {\n",
       "        text-align: right;\n",
       "    }\n",
       "</style>\n",
       "<table border=\"1\" class=\"dataframe\">\n",
       "  <thead>\n",
       "    <tr style=\"text-align: right;\">\n",
       "      <th></th>\n",
       "      <th>count</th>\n",
       "      <th>mean</th>\n",
       "      <th>std</th>\n",
       "    </tr>\n",
       "    <tr>\n",
       "      <th>JobTitle</th>\n",
       "      <th></th>\n",
       "      <th></th>\n",
       "      <th></th>\n",
       "    </tr>\n",
       "  </thead>\n",
       "  <tbody>\n",
       "    <tr>\n",
       "      <th>Chief Executive Officer</th>\n",
       "      <td>1</td>\n",
       "      <td>69.000000</td>\n",
       "      <td>NaN</td>\n",
       "    </tr>\n",
       "    <tr>\n",
       "      <th>Stocker</th>\n",
       "      <td>3</td>\n",
       "      <td>68.333333</td>\n",
       "      <td>0.57735</td>\n",
       "    </tr>\n",
       "    <tr>\n",
       "      <th>Shipping and Receiving Clerk</th>\n",
       "      <td>2</td>\n",
       "      <td>67.000000</td>\n",
       "      <td>0.00000</td>\n",
       "    </tr>\n",
       "    <tr>\n",
       "      <th>Maintenance Supervisor</th>\n",
       "      <td>1</td>\n",
       "      <td>66.000000</td>\n",
       "      <td>NaN</td>\n",
       "    </tr>\n",
       "    <tr>\n",
       "      <th>Shipping and Receiving Supervisor</th>\n",
       "      <td>1</td>\n",
       "      <td>66.000000</td>\n",
       "      <td>NaN</td>\n",
       "    </tr>\n",
       "    <tr>\n",
       "      <th>...</th>\n",
       "      <td>...</td>\n",
       "      <td>...</td>\n",
       "      <td>...</td>\n",
       "    </tr>\n",
       "    <tr>\n",
       "      <th>Design Engineer</th>\n",
       "      <td>3</td>\n",
       "      <td>22.333333</td>\n",
       "      <td>0.57735</td>\n",
       "    </tr>\n",
       "    <tr>\n",
       "      <th>Engineering Manager</th>\n",
       "      <td>1</td>\n",
       "      <td>21.000000</td>\n",
       "      <td>NaN</td>\n",
       "    </tr>\n",
       "    <tr>\n",
       "      <th>Senior Design Engineer</th>\n",
       "      <td>1</td>\n",
       "      <td>21.000000</td>\n",
       "      <td>NaN</td>\n",
       "    </tr>\n",
       "    <tr>\n",
       "      <th>Vice President of Engineering</th>\n",
       "      <td>1</td>\n",
       "      <td>20.000000</td>\n",
       "      <td>NaN</td>\n",
       "    </tr>\n",
       "    <tr>\n",
       "      <th>Chief Financial Officer</th>\n",
       "      <td>1</td>\n",
       "      <td>20.000000</td>\n",
       "      <td>NaN</td>\n",
       "    </tr>\n",
       "  </tbody>\n",
       "</table>\n",
       "<p>67 rows × 3 columns</p>\n",
       "</div>"
      ],
      "text/plain": [
       "                                   count       mean      std\n",
       "JobTitle                                                    \n",
       "Chief Executive Officer                1  69.000000      NaN\n",
       "Stocker                                3  68.333333  0.57735\n",
       "Shipping and Receiving Clerk           2  67.000000  0.00000\n",
       "Maintenance Supervisor                 1  66.000000      NaN\n",
       "Shipping and Receiving Supervisor      1  66.000000      NaN\n",
       "...                                  ...        ...      ...\n",
       "Design Engineer                        3  22.333333  0.57735\n",
       "Engineering Manager                    1  21.000000      NaN\n",
       "Senior Design Engineer                 1  21.000000      NaN\n",
       "Vice President of Engineering          1  20.000000      NaN\n",
       "Chief Financial Officer                1  20.000000      NaN\n",
       "\n",
       "[67 rows x 3 columns]"
      ]
     },
     "execution_count": 116,
     "metadata": {},
     "output_type": "execute_result"
    }
   ],
   "source": [
    "job_title_avg = df_clean.groupby(\"JobTitle\")[\"SickLeaveHours\"].agg(['count', np.mean, np.std]).sort_values(\"mean\", ascending=False)\n",
    "job_title_avg"
   ]
  },
  {
   "cell_type": "markdown",
   "metadata": {},
   "source": [
    "The chief exectuive officer has  . The production technicians seems "
   ]
  }
 ],
 "metadata": {
  "kernelspec": {
   "display_name": "tetris_env",
   "language": "python",
   "name": "python3"
  },
  "language_info": {
   "codemirror_mode": {
    "name": "ipython",
    "version": 3
   },
   "file_extension": ".py",
   "mimetype": "text/x-python",
   "name": "python",
   "nbconvert_exporter": "python",
   "pygments_lexer": "ipython3",
   "version": "3.11.3"
  }
 },
 "nbformat": 4,
 "nbformat_minor": 2
}
