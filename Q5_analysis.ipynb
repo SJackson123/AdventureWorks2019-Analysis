{
 "cells": [
  {
   "cell_type": "code",
   "execution_count": 1,
   "metadata": {},
   "outputs": [],
   "source": [
    "import numpy as np\n",
    "import pandas as pd\n",
    "from matplotlib import pyplot as plt\n",
    "import seaborn as sns\n",
    "from scipy import stats"
   ]
  },
  {
   "cell_type": "markdown",
   "metadata": {},
   "source": [
    "# Q5) What is the relationship between store trading duration and revenue?"
   ]
  },
  {
   "cell_type": "markdown",
   "metadata": {},
   "source": [
    "Store trading duration: The length of time a shop has been actively conducting sales. We measured this by taking the difference from the first sale and last sale to provide insight into how long each store has been serving its customers."
   ]
  },
  {
   "cell_type": "code",
   "execution_count": 2,
   "metadata": {},
   "outputs": [
    {
     "data": {
      "text/html": [
       "<div>\n",
       "<style scoped>\n",
       "    .dataframe tbody tr th:only-of-type {\n",
       "        vertical-align: middle;\n",
       "    }\n",
       "\n",
       "    .dataframe tbody tr th {\n",
       "        vertical-align: top;\n",
       "    }\n",
       "\n",
       "    .dataframe thead th {\n",
       "        text-align: right;\n",
       "    }\n",
       "</style>\n",
       "<table border=\"1\" class=\"dataframe\">\n",
       "  <thead>\n",
       "    <tr style=\"text-align: right;\">\n",
       "      <th></th>\n",
       "      <th>StoreName</th>\n",
       "      <th>TerritoryID</th>\n",
       "      <th>CountryRegionCode</th>\n",
       "      <th>name</th>\n",
       "      <th>TradingDurationInDays</th>\n",
       "      <th>TradingDurationInYears</th>\n",
       "      <th>TotalSales</th>\n",
       "    </tr>\n",
       "  </thead>\n",
       "  <tbody>\n",
       "    <tr>\n",
       "      <th>0</th>\n",
       "      <td>Brakes and Gears</td>\n",
       "      <td>1</td>\n",
       "      <td>US</td>\n",
       "      <td>Northwest</td>\n",
       "      <td>1004</td>\n",
       "      <td>2.750684</td>\n",
       "      <td>989184.0820</td>\n",
       "    </tr>\n",
       "    <tr>\n",
       "      <th>1</th>\n",
       "      <td>Excellent Riding Supplies</td>\n",
       "      <td>5</td>\n",
       "      <td>US</td>\n",
       "      <td>Southeast</td>\n",
       "      <td>1004</td>\n",
       "      <td>2.750684</td>\n",
       "      <td>961675.8596</td>\n",
       "    </tr>\n",
       "    <tr>\n",
       "      <th>2</th>\n",
       "      <td>Vigorous Exercise Company</td>\n",
       "      <td>6</td>\n",
       "      <td>CA</td>\n",
       "      <td>Canada</td>\n",
       "      <td>1004</td>\n",
       "      <td>2.750684</td>\n",
       "      <td>954021.9235</td>\n",
       "    </tr>\n",
       "    <tr>\n",
       "      <th>3</th>\n",
       "      <td>Totes &amp; Baskets Company</td>\n",
       "      <td>4</td>\n",
       "      <td>US</td>\n",
       "      <td>Southwest</td>\n",
       "      <td>1004</td>\n",
       "      <td>2.750684</td>\n",
       "      <td>919801.8188</td>\n",
       "    </tr>\n",
       "    <tr>\n",
       "      <th>4</th>\n",
       "      <td>Retail Mall</td>\n",
       "      <td>6</td>\n",
       "      <td>CA</td>\n",
       "      <td>Canada</td>\n",
       "      <td>1005</td>\n",
       "      <td>2.753424</td>\n",
       "      <td>901346.8560</td>\n",
       "    </tr>\n",
       "  </tbody>\n",
       "</table>\n",
       "</div>"
      ],
      "text/plain": [
       "                   StoreName  TerritoryID CountryRegionCode       name  \\\n",
       "0           Brakes and Gears            1                US  Northwest   \n",
       "1  Excellent Riding Supplies            5                US  Southeast   \n",
       "2  Vigorous Exercise Company            6                CA     Canada   \n",
       "3    Totes & Baskets Company            4                US  Southwest   \n",
       "4                Retail Mall            6                CA     Canada   \n",
       "\n",
       "   TradingDurationInDays  TradingDurationInYears   TotalSales  \n",
       "0                   1004                2.750684  989184.0820  \n",
       "1                   1004                2.750684  961675.8596  \n",
       "2                   1004                2.750684  954021.9235  \n",
       "3                   1004                2.750684  919801.8188  \n",
       "4                   1005                2.753424  901346.8560  "
      ]
     },
     "execution_count": 2,
     "metadata": {},
     "output_type": "execute_result"
    }
   ],
   "source": [
    "df = pd.read_csv(r\"C:\\Users\\sebsj\\Documents\\Computer Science\\GenerationDataAnalyst\\InterimProject\\analysis\\Q5_data.csv\")\n",
    "df.head()"
   ]
  },
  {
   "cell_type": "code",
   "execution_count": 3,
   "metadata": {},
   "outputs": [
    {
     "data": {
      "text/html": [
       "<div>\n",
       "<style scoped>\n",
       "    .dataframe tbody tr th:only-of-type {\n",
       "        vertical-align: middle;\n",
       "    }\n",
       "\n",
       "    .dataframe tbody tr th {\n",
       "        vertical-align: top;\n",
       "    }\n",
       "\n",
       "    .dataframe thead th {\n",
       "        text-align: right;\n",
       "    }\n",
       "</style>\n",
       "<table border=\"1\" class=\"dataframe\">\n",
       "  <thead>\n",
       "    <tr style=\"text-align: right;\">\n",
       "      <th></th>\n",
       "      <th>StoreName</th>\n",
       "      <th>TerritoryID</th>\n",
       "      <th>CountryRegionCode</th>\n",
       "      <th>name</th>\n",
       "      <th>TradingDurationInDays</th>\n",
       "      <th>TradingDurationInYears</th>\n",
       "      <th>TotalSales</th>\n",
       "      <th>SalesPerDay</th>\n",
       "    </tr>\n",
       "  </thead>\n",
       "  <tbody>\n",
       "    <tr>\n",
       "      <th>0</th>\n",
       "      <td>Brakes and Gears</td>\n",
       "      <td>1</td>\n",
       "      <td>US</td>\n",
       "      <td>Northwest</td>\n",
       "      <td>1004</td>\n",
       "      <td>2.750684</td>\n",
       "      <td>989184.0820</td>\n",
       "      <td>985.243110</td>\n",
       "    </tr>\n",
       "    <tr>\n",
       "      <th>1</th>\n",
       "      <td>Excellent Riding Supplies</td>\n",
       "      <td>5</td>\n",
       "      <td>US</td>\n",
       "      <td>Southeast</td>\n",
       "      <td>1004</td>\n",
       "      <td>2.750684</td>\n",
       "      <td>961675.8596</td>\n",
       "      <td>957.844482</td>\n",
       "    </tr>\n",
       "    <tr>\n",
       "      <th>2</th>\n",
       "      <td>Vigorous Exercise Company</td>\n",
       "      <td>6</td>\n",
       "      <td>CA</td>\n",
       "      <td>Canada</td>\n",
       "      <td>1004</td>\n",
       "      <td>2.750684</td>\n",
       "      <td>954021.9235</td>\n",
       "      <td>950.221039</td>\n",
       "    </tr>\n",
       "    <tr>\n",
       "      <th>3</th>\n",
       "      <td>Totes &amp; Baskets Company</td>\n",
       "      <td>4</td>\n",
       "      <td>US</td>\n",
       "      <td>Southwest</td>\n",
       "      <td>1004</td>\n",
       "      <td>2.750684</td>\n",
       "      <td>919801.8188</td>\n",
       "      <td>916.137270</td>\n",
       "    </tr>\n",
       "    <tr>\n",
       "      <th>4</th>\n",
       "      <td>Retail Mall</td>\n",
       "      <td>6</td>\n",
       "      <td>CA</td>\n",
       "      <td>Canada</td>\n",
       "      <td>1005</td>\n",
       "      <td>2.753424</td>\n",
       "      <td>901346.8560</td>\n",
       "      <td>896.862543</td>\n",
       "    </tr>\n",
       "  </tbody>\n",
       "</table>\n",
       "</div>"
      ],
      "text/plain": [
       "                   StoreName  TerritoryID CountryRegionCode       name  \\\n",
       "0           Brakes and Gears            1                US  Northwest   \n",
       "1  Excellent Riding Supplies            5                US  Southeast   \n",
       "2  Vigorous Exercise Company            6                CA     Canada   \n",
       "3    Totes & Baskets Company            4                US  Southwest   \n",
       "4                Retail Mall            6                CA     Canada   \n",
       "\n",
       "   TradingDurationInDays  TradingDurationInYears   TotalSales  SalesPerDay  \n",
       "0                   1004                2.750684  989184.0820   985.243110  \n",
       "1                   1004                2.750684  961675.8596   957.844482  \n",
       "2                   1004                2.750684  954021.9235   950.221039  \n",
       "3                   1004                2.750684  919801.8188   916.137270  \n",
       "4                   1005                2.753424  901346.8560   896.862543  "
      ]
     },
     "execution_count": 3,
     "metadata": {},
     "output_type": "execute_result"
    }
   ],
   "source": [
    "df[\"SalesPerDay\"] = df[\"TotalSales\"] / df[\"TradingDurationInDays\"]\n",
    "df.head()"
   ]
  },
  {
   "cell_type": "markdown",
   "metadata": {},
   "source": [
    "## Scatter plot and Correlation"
   ]
  },
  {
   "cell_type": "code",
   "execution_count": 20,
   "metadata": {},
   "outputs": [
    {
     "data": {
      "text/html": [
       "<div>\n",
       "<style scoped>\n",
       "    .dataframe tbody tr th:only-of-type {\n",
       "        vertical-align: middle;\n",
       "    }\n",
       "\n",
       "    .dataframe tbody tr th {\n",
       "        vertical-align: top;\n",
       "    }\n",
       "\n",
       "    .dataframe thead th {\n",
       "        text-align: right;\n",
       "    }\n",
       "</style>\n",
       "<table border=\"1\" class=\"dataframe\">\n",
       "  <thead>\n",
       "    <tr style=\"text-align: right;\">\n",
       "      <th></th>\n",
       "      <th>TradingDurationInDays</th>\n",
       "      <th>SalesPerDay</th>\n",
       "    </tr>\n",
       "  </thead>\n",
       "  <tbody>\n",
       "    <tr>\n",
       "      <th>1</th>\n",
       "      <td>89</td>\n",
       "      <td>21.583135</td>\n",
       "    </tr>\n",
       "    <tr>\n",
       "      <th>2</th>\n",
       "      <td>90</td>\n",
       "      <td>12.369644</td>\n",
       "    </tr>\n",
       "    <tr>\n",
       "      <th>3</th>\n",
       "      <td>91</td>\n",
       "      <td>13.464329</td>\n",
       "    </tr>\n",
       "    <tr>\n",
       "      <th>4</th>\n",
       "      <td>92</td>\n",
       "      <td>27.544248</td>\n",
       "    </tr>\n",
       "    <tr>\n",
       "      <th>5</th>\n",
       "      <td>181</td>\n",
       "      <td>28.719212</td>\n",
       "    </tr>\n",
       "  </tbody>\n",
       "</table>\n",
       "</div>"
      ],
      "text/plain": [
       "   TradingDurationInDays  SalesPerDay\n",
       "1                     89    21.583135\n",
       "2                     90    12.369644\n",
       "3                     91    13.464329\n",
       "4                     92    27.544248\n",
       "5                    181    28.719212"
      ]
     },
     "execution_count": 20,
     "metadata": {},
     "output_type": "execute_result"
    }
   ],
   "source": [
    "df_avg_trading_dur = df.groupby(\"TradingDurationInDays\")[\"SalesPerDay\"].mean().reset_index()\n",
    "df_avg_trading_dur.dropna(inplace=True)\n",
    "df_avg_trading_dur.head()"
   ]
  },
  {
   "cell_type": "code",
   "execution_count": 30,
   "metadata": {},
   "outputs": [
    {
     "data": {
      "image/png": "[encoded data removed]",
      "text/plain": [
       "<Figure size 640x480 with 1 Axes>"
      ]
     },
     "metadata": {},
     "output_type": "display_data"
    }
   ],
   "source": [
    "fig, ax = plt.subplots()\n",
    "\n",
    "# Use seaborn scatterplot with hue parameter to change color based on \"CountryRegionCode\"\n",
    "scatter = sns.regplot(data=df_avg_trading_dur,\n",
    "                          x=\"TradingDurationInDays\",\n",
    "                          y=\"SalesPerDay\")\n",
    "ax.set(xlabel=\"Trading Duration in Days\",\n",
    "       ylabel=\"Average Sales Per Day\",\n",
    "       title=\"Average Sales Per Day vs Trading Duration\")\n",
    "plt.text(100, 110, 'r = 0.225', fontsize=12, ha='left', va='bottom', color='black')\n",
    "plt.show()\n"
   ]
  },
  {
   "cell_type": "markdown",
   "metadata": {},
   "source": [
    "Sometimes it is useful to draw a best fit line, but this is not one of those situations. It is obvious from the scatterplot that the relationship between trading duration and average sales per day is weakly positive."
   ]
  },
  {
   "cell_type": "code",
   "execution_count": 22,
   "metadata": {},
   "outputs": [
    {
     "data": {
      "text/plain": [
       "PearsonRResult(statistic=0.22544793681527714, pvalue=0.22268021032551247)"
      ]
     },
     "execution_count": 22,
     "metadata": {},
     "output_type": "execute_result"
    }
   ],
   "source": [
    "stats.pearsonr(df_avg_trading_dur[\"TradingDurationInDays\"],\n",
    "               df_avg_trading_dur[\"SalesPerDay\"])"
   ]
  },
  {
   "cell_type": "markdown",
   "metadata": {},
   "source": [
    "Pearson's r = 0.225\n",
    "P value = 0.223 - the probability that the true value of r is zero (no correlation)\n",
    "The correlation coefficient demonstrates very little relationship between average sales per day and trading duration. The p-value is 0.22 which means we cannot reject the null hypothesis which is greater than the typical significance level of 0.05, we fail to reject the null hypothesis, indicating there is insufficient evidence to conclude a correlation between the variables."
   ]
  },
  {
   "cell_type": "markdown",
   "metadata": {},
   "source": []
  }
 ],
 "metadata": {
  "kernelspec": {
   "display_name": "tetris_env",
   "language": "python",
   "name": "python3"
  },
  "language_info": {
   "codemirror_mode": {
    "name": "ipython",
    "version": 3
   },
   "file_extension": ".py",
   "mimetype": "text/x-python",
   "name": "python",
   "nbconvert_exporter": "python",
   "pygments_lexer": "ipython3",
   "version": "3.11.3"
  }
 },
 "nbformat": 4,
 "nbformat_minor": 2
}
